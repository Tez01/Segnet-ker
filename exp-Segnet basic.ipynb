{
 "cells": [
  {
   "cell_type": "code",
   "execution_count": 1,
   "metadata": {},
   "outputs": [
    {
     "name": "stderr",
     "output_type": "stream",
     "text": [
      "Using TensorFlow backend.\n"
     ]
    }
   ],
   "source": [
    "import keras as k\n"
   ]
  },
  {
   "cell_type": "code",
   "execution_count": 7,
   "metadata": {},
   "outputs": [],
   "source": [
    "from keras.models import Sequential\n",
    "from keras.layers.core import Activation,Reshape,Permute\n",
    "from keras.layers.convolutional import Conv2D,MaxPooling2D,UpSampling2D,ZeroPadding2D\n",
    "from keras.layers.normalization import BatchNormalization"
   ]
  },
  {
   "cell_type": "code",
   "execution_count": null,
   "metadata": {},
   "outputs": [],
   "source": [
    "h=360\n",
    "w=480\n",
    "ks=3\n",
    "pad=1\n",
    "encoding_layers=[ZeroPadding2D(padding=(pad,pad)),Conv2D(64,kernel_size=3,padding='valid',input_shape=(h,w),name='conv1'),BatchNormalization(name='conv1_bn'),Activation('relu',name='relu1'),MaxPooling2D(strides=2,name='pool1'),\n",
    "                 ZeroPadding2D(padding=(pad,pad)),Conv2D(128,kernel_size=3,padding='valid',name='conv2'),BatchNormalization(name='conv2_bn'),Activation('relu',name='relu2'),MaxPooling2D(strides=2,name='pool2'),\n",
    "                 ZeroPadding2D(padding=(pad,pad)),Conv2D(256,kernel_size=3,padding='valid',name='conv3'),BatchNormalization(name='conv3_bn'),Activation('relu',name='relu3'),MaxPooling2D(strides=2,name='pool3'),\n",
    "                 ZeroPadding2D(padding=(pad,pad)),Conv2D(512,kernel_size=3,padding='valid',name='conv4'),BatchNormalization(name='conv4_bn'),Activation('relu',name='relu4'),MaxPooling2D(strides=2,name='pool4'),\n",
    "                ]\n",
    "\n",
    "\n",
    "\n",
    "decoding_layers=[ZeroPadding2D(padding=(pad,pad)),Conv2D(512,kernel_size=3,padding='valid',name='Convdecode_4'),BatchNormalization(name='Convdecode_4_bn'),\n",
    "                ZeroPadding2D(padding=(pad,pad)),UpSampling2D(size=2,name='Upsample_3'),Conv2D(256,kernel_size=3,padding='valid',name='Convdecode_3'),BatchNormalization(name='Convdecode_3_bn'),\n",
    "                ZeroPadding2D(padding=(pad,pad)),UpSampling2D(size=2,name='Upsample_2'),Conv2D(128,kernel_size=3,padding='valid',name='Convdecode_2'),BatchNormalization(name='Convdecode_2_bn'),\n",
    "                ZeroPadding2D(padding=(pad,pad)),UpSampling2D(size=2,name='Upsample_1'),Conv2D(64,kernel_size=3,padding='valid',name='Convdecode_1'),BatchNormalization(name='Convdecode_1_bn'),\n",
    "                Conv2D(11,kernel_size=1,name='conv_classifier',padding='valid')]\n",
    "\n",
    "\n",
    "#encoder layers\n",
    "segnet_basic=models.Sequential()\n",
    "for l in encoding_layers:\n",
    "    segnet_basic.add(l)\n",
    "#decoder layers\n",
    "for l in decoding_layers:\n",
    "    segnet_basic.add(l)\n",
    "segnet_basic.add(Reshape((12,h,w)))\n",
    "segnet_basic.add(Activation('softmax'))\n",
    "                                                                                                                                      "
   ]
  },
  {
   "cell_type": "code",
   "execution_count": 5,
   "metadata": {},
   "outputs": [
    {
     "data": {
      "text/plain": [
       "(3, 4, 5, 6)"
      ]
     },
     "execution_count": 5,
     "metadata": {},
     "output_type": "execute_result"
    }
   ],
   "source": [
    "import numpy as np\n",
    "a = np.ones((3,4,5,6))\n",
    "np.rollaxis(a, 1, 1).shape"
   ]
  },
  {
   "cell_type": "code",
   "execution_count": 18,
   "metadata": {},
   "outputs": [
    {
     "name": "stdout",
     "output_type": "stream",
     "text": [
      "(3, 360, 480)\n",
      "(360, 480, 3)\n"
     ]
    }
   ],
   "source": [
    "import cv2\n",
    "import scipy\n",
    "import os\n",
    "import numpy as np\n",
    "#creating data\n",
    "data=[]\n",
    "labels=[]\n",
    "path='C:/Users/Hp/SegNet/CamVid/train.txt'\n",
    "with open(path) as f:\n",
    "    txt=f.readlines()\n",
    "    txt=[line.split(\" \") for line in txt]\n",
    "def normimg(rgbimage):\n",
    "    norm=np.zeros(rgbimage.shape)\n",
    "    b=rgbimage[:,:,0]\n",
    "    g=rgbimage[:,:,1]\n",
    "    r=rgbimage[:,:,2]\n",
    "    norm[:,:,0]=cv2.equalizeHist(b)\n",
    "    norm[:,:,1]=cv2.equalizeHist(g)\n",
    "    norm[:,:,2]=cv2.equalizeHist(r)\n",
    "    return norm\n",
    "    \n",
    "for i in range(len(txt)):\n",
    "    data.append(np.rollaxis(cv2.imread('C:/Users/Hp/SegNet' + txt[i][0][7:]),2))\n",
    "    labels.append(cv2.imread(txt[i][1]))\n",
    "\n",
    "print(data[0].shape)\n",
    "img=np.rollaxis(data[2],1)\n",
    "img=np.rollaxis(img,2,1)\n",
    "print(img.shape)\n"
   ]
  },
  {
   "cell_type": "code",
   "execution_count": 19,
   "metadata": {},
   "outputs": [],
   "source": [
    "cv2.imshow('img',img)\n",
    "cv2.waitKey(0)\n",
    "cv2.destroyAllWindows()\n"
   ]
  },
  {
   "cell_type": "code",
   "execution_count": 17,
   "metadata": {},
   "outputs": [
    {
     "data": {
      "text/plain": [
       "-1"
      ]
     },
     "execution_count": 17,
     "metadata": {},
     "output_type": "execute_result"
    }
   ],
   "source": [
    "import cv2\n",
    "import numpy as np\n",
    "\n",
    "img = cv2.imread('C:/Users/Hp/SegNet/CamVid/train/0001TP_006690.png')\n",
    "\n",
    "img_yuv = cv2.cvtColor(img, cv2.COLOR_BGR2YUV)\n",
    "\n",
    "# equalize the histogram of the Y channel\n",
    "img_yuv[:,:,0] = cv2.equalizeHist(img_yuv[:,:,0])\n",
    "\n",
    "# convert the YUV image back to RGB format\n",
    "img_output = cv2.cvtColor(img_yuv, cv2.COLOR_YUV2BGR)\n",
    "\n",
    "cv2.imshow('Color input image', img)\n",
    "cv2.imshow('Histogram equalized', img_output)\n",
    "\n",
    "cv2.waitKey(0)"
   ]
  },
  {
   "cell_type": "code",
   "execution_count": null,
   "metadata": {},
   "outputs": [],
   "source": []
  }
 ],
 "metadata": {
  "kernelspec": {
   "display_name": "Python 3",
   "language": "python",
   "name": "python3"
  },
  "language_info": {
   "codemirror_mode": {
    "name": "ipython",
    "version": 3
   },
   "file_extension": ".py",
   "mimetype": "text/x-python",
   "name": "python",
   "nbconvert_exporter": "python",
   "pygments_lexer": "ipython3",
   "version": "3.6.6"
  }
 },
 "nbformat": 4,
 "nbformat_minor": 2
}
